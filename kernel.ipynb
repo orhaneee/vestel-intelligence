{
 "cells": [
  {
   "cell_type": "code",
   "execution_count": null,
   "metadata": {},
   "outputs": [],
   "source": [
    "%reload_ext autoreload\n",
    "%autoreload 2\n",
    "%matplotlib inline\n",
    "\n",
    "import pandas as pd\n",
    "from fastai.conv_learner import *\n",
    "from fastai.plots import *"
   ]
  },
  {
   "cell_type": "code",
   "execution_count": null,
   "metadata": {},
   "outputs": [],
   "source": [
    "_PATH = './'\n",
    "!ls {_PATH}"
   ]
  },
  {
   "cell_type": "code",
   "execution_count": null,
   "metadata": {},
   "outputs": [],
   "source": [
    "train_target = pd.read_csv(_PATH + 'train_target.csv')\n",
    "train_target.head()"
   ]
  },
  {
   "cell_type": "code",
   "execution_count": null,
   "metadata": {},
   "outputs": [],
   "source": [
    "train_1_titles = train_target[(train_target['ImageName'] == 'train_1') & (train_target['PredictedOutcome'] == 1)]\n",
    "train_1_str = ','.join(train_1_titles['CareSymbolTag'].tolist())\n",
    "print(train_1_str)\n",
    "\n",
    "train_2_titles = train_target[(train_target['ImageName'] == 'train_2') & (train_target['PredictedOutcome'] == 1)]\n",
    "train_2_str = ','.join(train_2_titles['CareSymbolTag'].tolist())\n",
    "print(train_2_str)"
   ]
  },
  {
   "cell_type": "code",
   "execution_count": null,
   "metadata": {},
   "outputs": [],
   "source": [
    "some_image_paths = [f\"{_PATH}Train/train_1.jpg\", f\"{_PATH}Train/train_2.jpg\"]\n",
    "titles = [train_1_str, train_2_str]\n",
    "plots_from_files(some_image_paths, titles=titles, maintitle=\"Vintelligence\")"
   ]
  },
  {
   "cell_type": "code",
   "execution_count": null,
   "metadata": {},
   "outputs": [],
   "source": []
  }
 ],
 "metadata": {
  "kernelspec": {
   "display_name": "Python [conda env:fastai] *",
   "language": "python",
   "name": "conda-env-fastai-py"
  },
  "language_info": {
   "codemirror_mode": {
    "name": "ipython",
    "version": 3
   },
   "file_extension": ".py",
   "mimetype": "text/x-python",
   "name": "python",
   "nbconvert_exporter": "python",
   "pygments_lexer": "ipython3",
   "version": "3.6.8"
  }
 },
 "nbformat": 4,
 "nbformat_minor": 2
}
